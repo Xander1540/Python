{
 "cells": [
  {
   "attachments": {},
   "cell_type": "markdown",
   "metadata": {},
   "source": [
    "# Matplotlib ScatterPlot"
   ]
  },
  {
   "cell_type": "code",
   "execution_count": 62,
   "metadata": {},
   "outputs": [],
   "source": [
    "import pandas as pd\n",
    "import matplotlib.pyplot as plt"
   ]
  },
  {
   "cell_type": "code",
   "execution_count": 63,
   "metadata": {},
   "outputs": [
    {
     "data": {
      "text/plain": [
       "(10841, 13)"
      ]
     },
     "execution_count": 63,
     "metadata": {},
     "output_type": "execute_result"
    }
   ],
   "source": [
    "df1= pd.read_csv('C:\\PythonPractice\\googleplaystore.csv')\n",
    "df1.shape"
   ]
  },
  {
   "cell_type": "code",
   "execution_count": 64,
   "metadata": {},
   "outputs": [
    {
     "data": {
      "text/html": [
       "<div>\n",
       "<style scoped>\n",
       "    .dataframe tbody tr th:only-of-type {\n",
       "        vertical-align: middle;\n",
       "    }\n",
       "\n",
       "    .dataframe tbody tr th {\n",
       "        vertical-align: top;\n",
       "    }\n",
       "\n",
       "    .dataframe thead th {\n",
       "        text-align: right;\n",
       "    }\n",
       "</style>\n",
       "<table border=\"1\" class=\"dataframe\">\n",
       "  <thead>\n",
       "    <tr style=\"text-align: right;\">\n",
       "      <th></th>\n",
       "      <th>App</th>\n",
       "      <th>Category</th>\n",
       "      <th>Rating</th>\n",
       "      <th>Reviews</th>\n",
       "      <th>Size</th>\n",
       "      <th>Installs</th>\n",
       "      <th>Type</th>\n",
       "      <th>Price</th>\n",
       "      <th>Content Rating</th>\n",
       "      <th>Genres</th>\n",
       "      <th>Last Updated</th>\n",
       "      <th>Current Ver</th>\n",
       "      <th>Android Ver</th>\n",
       "    </tr>\n",
       "  </thead>\n",
       "  <tbody>\n",
       "    <tr>\n",
       "      <th>0</th>\n",
       "      <td>Photo Editor &amp; Candy Camera &amp; Grid &amp; ScrapBook</td>\n",
       "      <td>ART_AND_DESIGN</td>\n",
       "      <td>4.1</td>\n",
       "      <td>159</td>\n",
       "      <td>19M</td>\n",
       "      <td>10,000+</td>\n",
       "      <td>Free</td>\n",
       "      <td>0</td>\n",
       "      <td>Everyone</td>\n",
       "      <td>Art &amp; Design</td>\n",
       "      <td>January 7, 2018</td>\n",
       "      <td>1.0.0</td>\n",
       "      <td>4.0.3 and up</td>\n",
       "    </tr>\n",
       "    <tr>\n",
       "      <th>1</th>\n",
       "      <td>Coloring book moana</td>\n",
       "      <td>ART_AND_DESIGN</td>\n",
       "      <td>3.9</td>\n",
       "      <td>967</td>\n",
       "      <td>14M</td>\n",
       "      <td>500,000+</td>\n",
       "      <td>Free</td>\n",
       "      <td>0</td>\n",
       "      <td>Everyone</td>\n",
       "      <td>Art &amp; Design;Pretend Play</td>\n",
       "      <td>January 15, 2018</td>\n",
       "      <td>2.0.0</td>\n",
       "      <td>4.0.3 and up</td>\n",
       "    </tr>\n",
       "    <tr>\n",
       "      <th>2</th>\n",
       "      <td>U Launcher Lite – FREE Live Cool Themes, Hide ...</td>\n",
       "      <td>ART_AND_DESIGN</td>\n",
       "      <td>4.7</td>\n",
       "      <td>87510</td>\n",
       "      <td>8.7M</td>\n",
       "      <td>5,000,000+</td>\n",
       "      <td>Free</td>\n",
       "      <td>0</td>\n",
       "      <td>Everyone</td>\n",
       "      <td>Art &amp; Design</td>\n",
       "      <td>August 1, 2018</td>\n",
       "      <td>1.2.4</td>\n",
       "      <td>4.0.3 and up</td>\n",
       "    </tr>\n",
       "    <tr>\n",
       "      <th>3</th>\n",
       "      <td>Sketch - Draw &amp; Paint</td>\n",
       "      <td>ART_AND_DESIGN</td>\n",
       "      <td>4.5</td>\n",
       "      <td>215644</td>\n",
       "      <td>25M</td>\n",
       "      <td>50,000,000+</td>\n",
       "      <td>Free</td>\n",
       "      <td>0</td>\n",
       "      <td>Teen</td>\n",
       "      <td>Art &amp; Design</td>\n",
       "      <td>June 8, 2018</td>\n",
       "      <td>Varies with device</td>\n",
       "      <td>4.2 and up</td>\n",
       "    </tr>\n",
       "    <tr>\n",
       "      <th>4</th>\n",
       "      <td>Pixel Draw - Number Art Coloring Book</td>\n",
       "      <td>ART_AND_DESIGN</td>\n",
       "      <td>4.3</td>\n",
       "      <td>967</td>\n",
       "      <td>2.8M</td>\n",
       "      <td>100,000+</td>\n",
       "      <td>Free</td>\n",
       "      <td>0</td>\n",
       "      <td>Everyone</td>\n",
       "      <td>Art &amp; Design;Creativity</td>\n",
       "      <td>June 20, 2018</td>\n",
       "      <td>1.1</td>\n",
       "      <td>4.4 and up</td>\n",
       "    </tr>\n",
       "    <tr>\n",
       "      <th>...</th>\n",
       "      <td>...</td>\n",
       "      <td>...</td>\n",
       "      <td>...</td>\n",
       "      <td>...</td>\n",
       "      <td>...</td>\n",
       "      <td>...</td>\n",
       "      <td>...</td>\n",
       "      <td>...</td>\n",
       "      <td>...</td>\n",
       "      <td>...</td>\n",
       "      <td>...</td>\n",
       "      <td>...</td>\n",
       "      <td>...</td>\n",
       "    </tr>\n",
       "    <tr>\n",
       "      <th>995</th>\n",
       "      <td>My Talking Pet</td>\n",
       "      <td>ENTERTAINMENT</td>\n",
       "      <td>4.6</td>\n",
       "      <td>6238</td>\n",
       "      <td>Varies with device</td>\n",
       "      <td>100,000+</td>\n",
       "      <td>Paid</td>\n",
       "      <td>$4.99</td>\n",
       "      <td>Everyone</td>\n",
       "      <td>Entertainment</td>\n",
       "      <td>June 30, 2018</td>\n",
       "      <td>Varies with device</td>\n",
       "      <td>Varies with device</td>\n",
       "    </tr>\n",
       "    <tr>\n",
       "      <th>996</th>\n",
       "      <td>Funny Pics</td>\n",
       "      <td>ENTERTAINMENT</td>\n",
       "      <td>3.9</td>\n",
       "      <td>9941</td>\n",
       "      <td>Varies with device</td>\n",
       "      <td>1,000,000+</td>\n",
       "      <td>Free</td>\n",
       "      <td>0</td>\n",
       "      <td>Teen</td>\n",
       "      <td>Entertainment</td>\n",
       "      <td>July 7, 2017</td>\n",
       "      <td>Varies with device</td>\n",
       "      <td>Varies with device</td>\n",
       "    </tr>\n",
       "    <tr>\n",
       "      <th>997</th>\n",
       "      <td>Funny Quotes Free</td>\n",
       "      <td>ENTERTAINMENT</td>\n",
       "      <td>4.2</td>\n",
       "      <td>23666</td>\n",
       "      <td>3.6M</td>\n",
       "      <td>1,000,000+</td>\n",
       "      <td>Free</td>\n",
       "      <td>0</td>\n",
       "      <td>Teen</td>\n",
       "      <td>Entertainment</td>\n",
       "      <td>May 4, 2018</td>\n",
       "      <td>8.1</td>\n",
       "      <td>4.0 and up</td>\n",
       "    </tr>\n",
       "    <tr>\n",
       "      <th>998</th>\n",
       "      <td>LOL Pics (Funny Pictures)</td>\n",
       "      <td>ENTERTAINMENT</td>\n",
       "      <td>4.4</td>\n",
       "      <td>67554</td>\n",
       "      <td>7.7M</td>\n",
       "      <td>1,000,000+</td>\n",
       "      <td>Free</td>\n",
       "      <td>0</td>\n",
       "      <td>Teen</td>\n",
       "      <td>Entertainment</td>\n",
       "      <td>September 15, 2015</td>\n",
       "      <td>4.0</td>\n",
       "      <td>2.3.3 and up</td>\n",
       "    </tr>\n",
       "    <tr>\n",
       "      <th>999</th>\n",
       "      <td>Meme Creator</td>\n",
       "      <td>ENTERTAINMENT</td>\n",
       "      <td>4.2</td>\n",
       "      <td>38769</td>\n",
       "      <td>44M</td>\n",
       "      <td>1,000,000+</td>\n",
       "      <td>Free</td>\n",
       "      <td>0</td>\n",
       "      <td>Mature 17+</td>\n",
       "      <td>Entertainment</td>\n",
       "      <td>September 22, 2015</td>\n",
       "      <td>7.2.3</td>\n",
       "      <td>2.3 and up</td>\n",
       "    </tr>\n",
       "  </tbody>\n",
       "</table>\n",
       "<p>1000 rows × 13 columns</p>\n",
       "</div>"
      ],
      "text/plain": [
       "                                                   App        Category  \\\n",
       "0       Photo Editor & Candy Camera & Grid & ScrapBook  ART_AND_DESIGN   \n",
       "1                                  Coloring book moana  ART_AND_DESIGN   \n",
       "2    U Launcher Lite – FREE Live Cool Themes, Hide ...  ART_AND_DESIGN   \n",
       "3                                Sketch - Draw & Paint  ART_AND_DESIGN   \n",
       "4                Pixel Draw - Number Art Coloring Book  ART_AND_DESIGN   \n",
       "..                                                 ...             ...   \n",
       "995                                     My Talking Pet   ENTERTAINMENT   \n",
       "996                                         Funny Pics   ENTERTAINMENT   \n",
       "997                                  Funny Quotes Free   ENTERTAINMENT   \n",
       "998                          LOL Pics (Funny Pictures)   ENTERTAINMENT   \n",
       "999                                       Meme Creator   ENTERTAINMENT   \n",
       "\n",
       "     Rating  Reviews                Size     Installs  Type  Price  \\\n",
       "0       4.1      159                 19M      10,000+  Free      0   \n",
       "1       3.9      967                 14M     500,000+  Free      0   \n",
       "2       4.7    87510                8.7M   5,000,000+  Free      0   \n",
       "3       4.5   215644                 25M  50,000,000+  Free      0   \n",
       "4       4.3      967                2.8M     100,000+  Free      0   \n",
       "..      ...      ...                 ...          ...   ...    ...   \n",
       "995     4.6     6238  Varies with device     100,000+  Paid  $4.99   \n",
       "996     3.9     9941  Varies with device   1,000,000+  Free      0   \n",
       "997     4.2    23666                3.6M   1,000,000+  Free      0   \n",
       "998     4.4    67554                7.7M   1,000,000+  Free      0   \n",
       "999     4.2    38769                 44M   1,000,000+  Free      0   \n",
       "\n",
       "    Content Rating                     Genres        Last Updated  \\\n",
       "0         Everyone               Art & Design     January 7, 2018   \n",
       "1         Everyone  Art & Design;Pretend Play    January 15, 2018   \n",
       "2         Everyone               Art & Design      August 1, 2018   \n",
       "3             Teen               Art & Design        June 8, 2018   \n",
       "4         Everyone    Art & Design;Creativity       June 20, 2018   \n",
       "..             ...                        ...                 ...   \n",
       "995       Everyone              Entertainment       June 30, 2018   \n",
       "996           Teen              Entertainment        July 7, 2017   \n",
       "997           Teen              Entertainment         May 4, 2018   \n",
       "998           Teen              Entertainment  September 15, 2015   \n",
       "999     Mature 17+              Entertainment  September 22, 2015   \n",
       "\n",
       "            Current Ver         Android Ver  \n",
       "0                 1.0.0        4.0.3 and up  \n",
       "1                 2.0.0        4.0.3 and up  \n",
       "2                 1.2.4        4.0.3 and up  \n",
       "3    Varies with device          4.2 and up  \n",
       "4                   1.1          4.4 and up  \n",
       "..                  ...                 ...  \n",
       "995  Varies with device  Varies with device  \n",
       "996  Varies with device  Varies with device  \n",
       "997                 8.1          4.0 and up  \n",
       "998                 4.0        2.3.3 and up  \n",
       "999               7.2.3          2.3 and up  \n",
       "\n",
       "[1000 rows x 13 columns]"
      ]
     },
     "execution_count": 64,
     "metadata": {},
     "output_type": "execute_result"
    }
   ],
   "source": [
    "df1= pd.read_csv('C:\\PythonPractice\\googleplaystore.csv', nrows=1000)\n",
    "df1\n",
    "# /// 123"
   ]
  },
  {
   "cell_type": "code",
   "execution_count": 65,
   "metadata": {},
   "outputs": [],
   "source": [
    "a= df1[\"Rating\"]\n",
    "b= df1[\"Reviews\"]"
   ]
  },
  {
   "cell_type": "code",
   "execution_count": 66,
   "metadata": {},
   "outputs": [
    {
     "data": {
      "text/plain": [
       "<matplotlib.collections.PathCollection at 0x2d8f86b5990>"
      ]
     },
     "execution_count": 66,
     "metadata": {},
     "output_type": "execute_result"
    },
    {
     "data": {
      "image/png": "[encoded data removed]",
      "text/plain": [
       "<Figure size 640x480 with 1 Axes>"
      ]
     },
     "metadata": {},
     "output_type": "display_data"
    }
   ],
   "source": [
    "plt.scatter(a,b)"
   ]
  },
  {
   "cell_type": "code",
   "execution_count": 67,
   "metadata": {},
   "outputs": [
    {
     "data": {
      "image/png": "[encoded data removed]",
      "text/plain": [
       "<Figure size 640x480 with 1 Axes>"
      ]
     },
     "metadata": {},
     "output_type": "display_data"
    }
   ],
   "source": [
    "plt.scatter(a,b)\n",
    "plt.title(\"Google Play Store App Scatter Plot\", fontsize=15)\n",
    "plt.xlabel=(\"Rating\")\n",
    "plt.ylabel=(\"Reviews\")"
   ]
  },
  {
   "cell_type": "code",
   "execution_count": 68,
   "metadata": {},
   "outputs": [
    {
     "ename": "TypeError",
     "evalue": "'str' object is not callable",
     "output_type": "error",
     "traceback": [
      "\u001b[1;31m---------------------------------------------------------------------------\u001b[0m",
      "\u001b[1;31mTypeError\u001b[0m                                 Traceback (most recent call last)",
      "Cell \u001b[1;32mIn[68], line 5\u001b[0m\n\u001b[0;32m      3\u001b[0m plt\u001b[39m.\u001b[39mtitle(\u001b[39m\"\u001b[39m\u001b[39mGoogle Play Store App Scatter Plot\u001b[39m\u001b[39m\"\u001b[39m)\n\u001b[0;32m      4\u001b[0m \u001b[39m#plt.xlabel(\"Rating\")\u001b[39;00m\n\u001b[1;32m----> 5\u001b[0m plt\u001b[39m.\u001b[39;49mylabel(\u001b[39m\"\u001b[39;49m\u001b[39mReviews\u001b[39;49m\u001b[39m\"\u001b[39;49m)\n\u001b[0;32m      6\u001b[0m plt\u001b[39m.\u001b[39mshow()\n",
      "\u001b[1;31mTypeError\u001b[0m: 'str' object is not callable"
     ]
    },
    {
     "data": {
      "image/png": "[encoded data removed]",
      "text/plain": [
       "<Figure size 1000x600 with 1 Axes>"
      ]
     },
     "metadata": {},
     "output_type": "display_data"
    }
   ],
   "source": [
    "plt.figure(figsize=(10,6))\n",
    "plt.scatter(a,b, c='r', marker='*')\n",
    "plt.title(\"Google Play Store App Scatter Plot\")\n",
    "#plt.xlabel(\"Rating\")\n",
    "plt.ylabel(\"Reviews\")\n",
    "plt.show()"
   ]
  },
  {
   "cell_type": "code",
   "execution_count": null,
   "metadata": {},
   "outputs": [],
   "source": []
  }
 ],
 "metadata": {
  "kernelspec": {
   "display_name": "Python 3",
   "language": "python",
   "name": "python3"
  },
  "language_info": {
   "codemirror_mode": {
    "name": "ipython",
    "version": 3
   },
   "file_extension": ".py",
   "mimetype": "text/x-python",
   "name": "python",
   "nbconvert_exporter": "python",
   "pygments_lexer": "ipython3",
   "version": "3.10.9"
  },
  "orig_nbformat": 4,
  "vscode": {
   "interpreter": {
    "hash": "56951c903e6d266fd59ba5215f75765c9245679efb6f5bb43f3d544943e7568a"
   }
  }
 },
 "nbformat": 4,
 "nbformat_minor": 2
}
